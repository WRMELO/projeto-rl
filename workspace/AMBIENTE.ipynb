{
  "cells": [
    {
      "cell_type": "markdown",
      "metadata": {
        "id": "pip-docker-intro",
        "language": "markdown"
      },
      "source": [
        "# Ambiente Recomendado para yfinance",
        "Para evitar conflitos de dependências e garantir reprodutibilidade, recomenda-se usar um container Docker com a versão correta do Python e todas as dependências necessárias."
      ]
    },
    {
      "cell_type": "markdown",
      "metadata": {
        "id": "pip-dockerfile",
        "language": "markdown"
      },
      "source": [
        "## Exemplo de Dockerfile",
        "Crie um arquivo chamado `Dockerfile` no mesmo diretório do notebook com o seguinte conteúdo:"
      ]
    },
    {
      "cell_type": "code",
      "metadata": {
        "language": "docker"
      },
      "source": [
        "FROM python:3.11\n",
        "# Instala dependências essenciais\n",
        "RUN pip install --upgrade pip && \\\n",
        "    pip install yfinance pandas scikit-learn catboost mlxtend pmdarima\n",
        "# Define diretório de trabalho\n",
        "WORKDIR /workspace\n",
        "# Copia arquivos locais para o container\n",
        "COPY . /workspace"
      ]
    },
    {
      "cell_type": "markdown",
      "metadata": {
        "id": "pip-docker-run",
        "language": "markdown"
      },
      "source": [
        "## Como usar o Docker",
        "1. Salve o `Dockerfile` acima.",
        "2. No terminal, navegue até a pasta do notebook e execute:",
        "   ```sh",
        "   docker build -t yfinance-env .",
        "   docker run -it --rm -v %cd%:/workspace yfinance-env",
        "   ```",
        "3. Dentro do container, rode o Jupyter Notebook:",
        "   ```sh",
        "   pip install notebook",
        "   jupyter notebook --ip=0.0.0.0 --allow-root --NotebookApp.token=''",
        "   ```",
        "4. Acesse o notebook pelo navegador usando o endereço fornecido pelo Jupyter."
      ]
    },
    {
      "cell_type": "markdown",
      "metadata": {
        "id": "pip-docker-benefits",
        "language": "markdown"
      },
      "source": [
        "## Vantagens",
        "- Ambiente isolado, sem conflitos de dependências.",
        "- Fácil de replicar em outros computadores.",
        "- Todas as bibliotecas necessárias já instaladas."
      ]
    },
    {
      "cell_type": "markdown",
      "metadata": {
        "id": "pip-docker-alternative",
        "language": "markdown"
      },
      "source": [
        "## Alternativa: Corrigir dependências no Windows",
        "Se preferir não usar Docker, execute os comandos abaixo para corrigir as dependências no seu ambiente local:"
      ]
    },
    {
      "cell_type": "code",
      "metadata": {
        "language": "python"
      },
      "source": [
        "# Instale as dependências necessárias e ajuste versões para evitar conflitos",
        "!pip install --upgrade pip",
        "!pip install numpy==1.26.4 scikit-learn yfinance pandas catboost mlxtend pmdarima"
      ]
    },
    {
      "cell_type": "markdown",
      "metadata": {
        "id": "pip-docker-finish",
        "language": "markdown"
      },
      "source": [
        "Após seguir um dos métodos acima, execute normalmente o notebook para baixar e salvar os dados do Yahoo Finance."
      ]
    }
  ]
}
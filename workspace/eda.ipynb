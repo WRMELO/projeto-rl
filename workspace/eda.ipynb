{
  "cells": [
    // ...existing code...
    {
      "cell_type": "markdown",
      "metadata": {
        "language": "markdown"
      },
      "source": [
        "## 4.3 Análise Exploratória dos Dados",
        "",
        "Nesta etapa, vamos analisar cada um dos tickers para:",
        "",
        "- Verificar a consistência temporal dos dados (datas coincidentes entre os ativos);",
        "- Confirmar ausência de valores nulos ou inconsistentes nas colunas essenciais (`Close`, `Volume`, etc.);",
        "- Observar a distribuição e comportamento dos preços ao longo do tempo, identificando padrões visuais e outliers;",
        "- Validar a presença de variação suficiente para cálculo de indicadores técnicos (RSI, MACD, Bandas de Bollinger)."
      ]
    },
    {
      "cell_type": "code",
      "metadata": {
        "language": "python"
      },
      "source": [
        "import matplotlib.pyplot as plt",
        "",
        "# Função para análise exploratória de cada ticker",
        "def analise_exploratoria(ticker):",
        "    caminho = rf'c:\\Users\\wilso\\OneDrive\\MBA FIAP\\10. Reinforcement Learning\\ENTREGA DO EXERCÍCIO\\dados_{ticker.replace(\",\", \"\").replace(\".SA\", \"\").lower()}.csv'",
        "    df = pd.read_csv(caminho, index_col=0, parse_dates=True)",
        "    print(f'\\nAnálise para {ticker}:')",
        "    print('Período:', df.index.min().date(), 'a', df.index.max().date())",
        "    print('Total de registros:', len(df))",
        "    print('Valores nulos por coluna:')",
        "    print(df.isnull().sum())",
        "    print('Resumo estatístico:')",
        "    print(df.describe())",
        "    ",
        "    # Plotar gráfico de linha do preço de fechamento",
        "    plt.figure(figsize=(10,4))",
        "    plt.plot(df['Close'], label='Close')",
        "    plt.title(f'Preço de Fechamento - {ticker}')",
        "    plt.xlabel('Data')",
        "    plt.ylabel('Preço (R$)')",
        "    plt.legend()",
        "    plt.show()",
        "",
        "    # Verificar variação suficiente para indicadores",
        "    if df['Close'].nunique() > 20:",
        "        print('Variação suficiente para cálculo de indicadores técnicos.')",
        "    else:",
        "        print('Pouca variação detectada nos preços.')"
      ]
    },
    {
      "cell_type": "code",
      "metadata": {
        "language": "python"
      },
      "source": [
        "# Executar análise para cada ticker",
        "for ticker in lista_tickers:",
        "    analise_exploratoria(ticker)"
      ]
    }
    // ...existing code...
  ]
}
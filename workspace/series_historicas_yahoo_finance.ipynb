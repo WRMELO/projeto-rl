{
 "cells": [
  {
   "cell_type": "code",
   "execution_count": null,
   "id": "32e89fbd",
   "metadata": {},
   "outputs": [],
   "source": []
  },
  {
   "cell_type": "markdown",
   "id": "23f73ef7",
   "metadata": {},
   "source": [
    "# Recuperar dados de ações do Yahoo Finance\n",
    "Este notebook mostra como baixar dados de ações do Yahoo Finance usando Python e salvar em CSV."
   ]
  },
  {
   "cell_type": "code",
   "execution_count": 4,
   "id": "a591a473",
   "metadata": {},
   "outputs": [
    {
     "name": "stdout",
     "output_type": "stream",
     "text": [
      "Defaulting to user installation because normal site-packages is not writeable\n",
      "Requirement already satisfied: yfinance in c:\\users\\wilso\\appdata\\roaming\\python\\python311\\site-packages (0.2.58)\n",
      "Requirement already satisfied: pandas>=1.3.0 in c:\\users\\wilso\\appdata\\roaming\\python\\python311\\site-packages (from yfinance) (2.2.3)\n",
      "Requirement already satisfied: numpy>=1.16.5 in c:\\users\\wilso\\appdata\\roaming\\python\\python311\\site-packages (from yfinance) (2.2.5)\n",
      "Requirement already satisfied: requests>=2.31 in c:\\users\\wilso\\appdata\\roaming\\python\\python311\\site-packages (from yfinance) (2.32.3)\n",
      "Requirement already satisfied: multitasking>=0.0.7 in c:\\users\\wilso\\appdata\\roaming\\python\\python311\\site-packages (from yfinance) (0.0.11)\n",
      "Requirement already satisfied: platformdirs>=2.0.0 in c:\\users\\wilso\\appdata\\roaming\\python\\python311\\site-packages (from yfinance) (4.3.6)\n",
      "Requirement already satisfied: pytz>=2022.5 in c:\\users\\wilso\\appdata\\roaming\\python\\python311\\site-packages (from yfinance) (2025.2)\n",
      "Requirement already satisfied: frozendict>=2.3.4 in c:\\users\\wilso\\appdata\\roaming\\python\\python311\\site-packages (from yfinance) (2.4.6)\n",
      "Requirement already satisfied: peewee>=3.16.2 in c:\\users\\wilso\\appdata\\roaming\\python\\python311\\site-packages (from yfinance) (3.18.1)\n",
      "Requirement already satisfied: beautifulsoup4>=4.11.1 in c:\\users\\wilso\\appdata\\roaming\\python\\python311\\site-packages (from yfinance) (4.12.3)\n",
      "Requirement already satisfied: curl_cffi>=0.7 in c:\\users\\wilso\\appdata\\roaming\\python\\python311\\site-packages (from yfinance) (0.10.0)\n",
      "Requirement already satisfied: soupsieve>1.2 in c:\\users\\wilso\\appdata\\roaming\\python\\python311\\site-packages (from beautifulsoup4>=4.11.1->yfinance) (2.6)\n",
      "Requirement already satisfied: cffi>=1.12.0 in c:\\users\\wilso\\appdata\\roaming\\python\\python311\\site-packages (from curl_cffi>=0.7->yfinance) (1.17.1)\n",
      "Requirement already satisfied: certifi>=2024.2.2 in c:\\users\\wilso\\appdata\\roaming\\python\\python311\\site-packages (from curl_cffi>=0.7->yfinance) (2024.8.30)\n",
      "Requirement already satisfied: python-dateutil>=2.8.2 in c:\\users\\wilso\\appdata\\roaming\\python\\python311\\site-packages (from pandas>=1.3.0->yfinance) (2.9.0.post0)\n",
      "Requirement already satisfied: tzdata>=2022.7 in c:\\users\\wilso\\appdata\\roaming\\python\\python311\\site-packages (from pandas>=1.3.0->yfinance) (2025.2)\n",
      "Requirement already satisfied: charset-normalizer<4,>=2 in c:\\users\\wilso\\appdata\\roaming\\python\\python311\\site-packages (from requests>=2.31->yfinance) (3.4.0)\n",
      "Requirement already satisfied: idna<4,>=2.5 in c:\\users\\wilso\\appdata\\roaming\\python\\python311\\site-packages (from requests>=2.31->yfinance) (3.10)\n",
      "Requirement already satisfied: urllib3<3,>=1.21.1 in c:\\users\\wilso\\appdata\\roaming\\python\\python311\\site-packages (from requests>=2.31->yfinance) (2.2.3)\n",
      "Requirement already satisfied: pycparser in c:\\users\\wilso\\appdata\\roaming\\python\\python311\\site-packages (from cffi>=1.12.0->curl_cffi>=0.7->yfinance) (2.22)\n",
      "Requirement already satisfied: six>=1.5 in c:\\users\\wilso\\appdata\\roaming\\python\\python311\\site-packages (from python-dateutil>=2.8.2->pandas>=1.3.0->yfinance) (1.17.0)\n"
     ]
    },
    {
     "name": "stderr",
     "output_type": "stream",
     "text": [
      "\n",
      "[notice] A new release of pip is available: 25.0.1 -> 25.1.1\n",
      "[notice] To update, run: python.exe -m pip install --upgrade pip\n"
     ]
    }
   ],
   "source": [
    "# Instalar o yfinance se necessário\n",
    "!pip install yfinance"
   ]
  },
  {
   "cell_type": "code",
   "execution_count": 9,
   "id": "028c1455",
   "metadata": {},
   "outputs": [
    {
     "name": "stderr",
     "output_type": "stream",
     "text": [
      "[*********************100%***********************]  1 of 1 completed\n"
     ]
    },
    {
     "name": "stdout",
     "output_type": "stream",
     "text": [
      "Dados de VALE3.SA salvos em: c:\\Users\\wilso\\OneDrive\\MBA FIAP\\10. Reinforcement Learning\\ENTREGA DO EXERCÍCIO\\dados_vale3.csv\n"
     ]
    },
    {
     "name": "stderr",
     "output_type": "stream",
     "text": [
      "[*********************100%***********************]  1 of 1 completed\n"
     ]
    },
    {
     "name": "stdout",
     "output_type": "stream",
     "text": [
      "Dados de PETR4.SA salvos em: c:\\Users\\wilso\\OneDrive\\MBA FIAP\\10. Reinforcement Learning\\ENTREGA DO EXERCÍCIO\\dados_petr4.csv\n"
     ]
    },
    {
     "name": "stderr",
     "output_type": "stream",
     "text": [
      "[*********************100%***********************]  1 of 1 completed\n"
     ]
    },
    {
     "name": "stdout",
     "output_type": "stream",
     "text": [
      "Dados de BRFS3.SA salvos em: c:\\Users\\wilso\\OneDrive\\MBA FIAP\\10. Reinforcement Learning\\ENTREGA DO EXERCÍCIO\\dados_brfs3.csv\n"
     ]
    },
    {
     "name": "stderr",
     "output_type": "stream",
     "text": [
      "[*********************100%***********************]  1 of 1 completed\n"
     ]
    },
    {
     "name": "stdout",
     "output_type": "stream",
     "text": [
      "Dados de IMAB11.SA salvos em: c:\\Users\\wilso\\OneDrive\\MBA FIAP\\10. Reinforcement Learning\\ENTREGA DO EXERCÍCIO\\dados_imab11.csv\n"
     ]
    },
    {
     "name": "stderr",
     "output_type": "stream",
     "text": [
      "[*********************100%***********************]  1 of 1 completed"
     ]
    },
    {
     "name": "stdout",
     "output_type": "stream",
     "text": [
      "Dados de BOVA11.SA salvos em: c:\\Users\\wilso\\OneDrive\\MBA FIAP\\10. Reinforcement Learning\\ENTREGA DO EXERCÍCIO\\dados_bova11.csv\n"
     ]
    },
    {
     "name": "stderr",
     "output_type": "stream",
     "text": [
      "\n"
     ]
    },
    {
     "data": {
      "application/vnd.microsoft.datawrangler.viewer.v0+json": {
       "columns": [
        {
         "name": "Date",
         "rawType": "datetime64[ns]",
         "type": "datetime"
        },
        {
         "name": "('Close', 'BOVA11.SA')",
         "rawType": "float64",
         "type": "float"
        },
        {
         "name": "('High', 'BOVA11.SA')",
         "rawType": "float64",
         "type": "float"
        },
        {
         "name": "('Low', 'BOVA11.SA')",
         "rawType": "float64",
         "type": "float"
        },
        {
         "name": "('Open', 'BOVA11.SA')",
         "rawType": "float64",
         "type": "float"
        },
        {
         "name": "('Volume', 'BOVA11.SA')",
         "rawType": "int64",
         "type": "integer"
        }
       ],
       "conversionMethod": "pd.DataFrame",
       "ref": "279a6436-36d9-4fc8-a68e-7b7795b7f266",
       "rows": [
        [
         "2020-05-06 00:00:00",
         "76.19999694824219",
         "77.05999755859375",
         "75.1500015258789",
         "76.81999969482422",
         "6296420"
        ],
        [
         "2020-05-07 00:00:00",
         "75.4000015258789",
         "77.20999908447266",
         "75.16999816894531",
         "77.08000183105469",
         "12412860"
        ],
        [
         "2020-05-08 00:00:00",
         "77.43000030517578",
         "77.58000183105469",
         "76.5",
         "76.94000244140625",
         "10911150"
        ],
        [
         "2020-05-11 00:00:00",
         "76.13999938964844",
         "77.79000091552734",
         "76.02999877929688",
         "76.69999694824219",
         "13427870"
        ],
        [
         "2020-05-12 00:00:00",
         "75.0",
         "77.37999725341797",
         "75.0",
         "76.77999877929688",
         "14461750"
        ]
       ],
       "shape": {
        "columns": 5,
        "rows": 5
       }
      },
      "text/html": [
       "<div>\n",
       "<style scoped>\n",
       "    .dataframe tbody tr th:only-of-type {\n",
       "        vertical-align: middle;\n",
       "    }\n",
       "\n",
       "    .dataframe tbody tr th {\n",
       "        vertical-align: top;\n",
       "    }\n",
       "\n",
       "    .dataframe thead tr th {\n",
       "        text-align: left;\n",
       "    }\n",
       "\n",
       "    .dataframe thead tr:last-of-type th {\n",
       "        text-align: right;\n",
       "    }\n",
       "</style>\n",
       "<table border=\"1\" class=\"dataframe\">\n",
       "  <thead>\n",
       "    <tr>\n",
       "      <th>Price</th>\n",
       "      <th>Close</th>\n",
       "      <th>High</th>\n",
       "      <th>Low</th>\n",
       "      <th>Open</th>\n",
       "      <th>Volume</th>\n",
       "    </tr>\n",
       "    <tr>\n",
       "      <th>Ticker</th>\n",
       "      <th>BOVA11.SA</th>\n",
       "      <th>BOVA11.SA</th>\n",
       "      <th>BOVA11.SA</th>\n",
       "      <th>BOVA11.SA</th>\n",
       "      <th>BOVA11.SA</th>\n",
       "    </tr>\n",
       "    <tr>\n",
       "      <th>Date</th>\n",
       "      <th></th>\n",
       "      <th></th>\n",
       "      <th></th>\n",
       "      <th></th>\n",
       "      <th></th>\n",
       "    </tr>\n",
       "  </thead>\n",
       "  <tbody>\n",
       "    <tr>\n",
       "      <th>2020-05-06</th>\n",
       "      <td>76.199997</td>\n",
       "      <td>77.059998</td>\n",
       "      <td>75.150002</td>\n",
       "      <td>76.820000</td>\n",
       "      <td>6296420</td>\n",
       "    </tr>\n",
       "    <tr>\n",
       "      <th>2020-05-07</th>\n",
       "      <td>75.400002</td>\n",
       "      <td>77.209999</td>\n",
       "      <td>75.169998</td>\n",
       "      <td>77.080002</td>\n",
       "      <td>12412860</td>\n",
       "    </tr>\n",
       "    <tr>\n",
       "      <th>2020-05-08</th>\n",
       "      <td>77.430000</td>\n",
       "      <td>77.580002</td>\n",
       "      <td>76.500000</td>\n",
       "      <td>76.940002</td>\n",
       "      <td>10911150</td>\n",
       "    </tr>\n",
       "    <tr>\n",
       "      <th>2020-05-11</th>\n",
       "      <td>76.139999</td>\n",
       "      <td>77.790001</td>\n",
       "      <td>76.029999</td>\n",
       "      <td>76.699997</td>\n",
       "      <td>13427870</td>\n",
       "    </tr>\n",
       "    <tr>\n",
       "      <th>2020-05-12</th>\n",
       "      <td>75.000000</td>\n",
       "      <td>77.379997</td>\n",
       "      <td>75.000000</td>\n",
       "      <td>76.779999</td>\n",
       "      <td>14461750</td>\n",
       "    </tr>\n",
       "  </tbody>\n",
       "</table>\n",
       "</div>"
      ],
      "text/plain": [
       "Price           Close       High        Low       Open    Volume\n",
       "Ticker      BOVA11.SA  BOVA11.SA  BOVA11.SA  BOVA11.SA BOVA11.SA\n",
       "Date                                                            \n",
       "2020-05-06  76.199997  77.059998  75.150002  76.820000   6296420\n",
       "2020-05-07  75.400002  77.209999  75.169998  77.080002  12412860\n",
       "2020-05-08  77.430000  77.580002  76.500000  76.940002  10911150\n",
       "2020-05-11  76.139999  77.790001  76.029999  76.699997  13427870\n",
       "2020-05-12  75.000000  77.379997  75.000000  76.779999  14461750"
      ]
     },
     "execution_count": 9,
     "metadata": {},
     "output_type": "execute_result"
    }
   ],
   "source": [
    "import yfinance as yf\n",
    "import pandas as pd\n",
    "\n",
    "# Definir os tickers das ações e o período\n",
    "lista_tickers = ['VALE3.SA', 'PETR4.SA', 'BRFS3.SA', 'IMAB11.SA', 'BOVA11.SA' ]  # Vale, Petrobrás, Brasil Foods, LTN e Index Bovespa\n",
    "periodo = '5y'  # Últimos 5 anos\n",
    "\n",
    "# Baixar os dados de todos os tickers\n",
    "for ticker in lista_tickers:\n",
    "    dados = yf.download(ticker, period=periodo, interval='1d')\n",
    "    caminho = rf'c:\\Users\\wilso\\OneDrive\\MBA FIAP\\10. Reinforcement Learning\\ENTREGA DO EXERCÍCIO\\dados_{ticker.replace(\",\", \"\").replace(\".SA\", \"\").lower()}.csv'\n",
    "    dados.to_csv(caminho)\n",
    "    print(f'Dados de {ticker} salvos em: {caminho}')\n",
    "\n",
    "# Exibir as primeiras linhas\n",
    "dados.head()"
   ]
  },
  {
   "cell_type": "code",
   "execution_count": null,
   "id": "1a225105",
   "metadata": {},
   "outputs": [
    {
     "name": "stderr",
     "output_type": "stream",
     "text": [
      "[*********************100%***********************]  1 of 1 completed\n",
      "\n",
      "[*********************100%***********************]  1 of 1 completed\n",
      "\n"
     ]
    },
    {
     "ename": "ValueError",
     "evalue": "cannot insert ('Ticker', ''), already exists",
     "output_type": "error",
     "traceback": [
      "\u001b[1;31m---------------------------------------------------------------------------\u001b[0m",
      "\u001b[1;31mValueError\u001b[0m                                Traceback (most recent call last)",
      "\u001b[1;32m~\\AppData\\Local\\Temp\\ipykernel_11748\\1977421736.py\u001b[0m in \u001b[0;36m?\u001b[1;34m()\u001b[0m\n\u001b[0;32m     21\u001b[0m \u001b[1;31m# Concatenar todos os dados\u001b[0m\u001b[1;33m\u001b[0m\u001b[1;33m\u001b[0m\u001b[0m\n\u001b[0;32m     22\u001b[0m \u001b[0mdf_completo\u001b[0m \u001b[1;33m=\u001b[0m \u001b[0mpd\u001b[0m\u001b[1;33m.\u001b[0m\u001b[0mconcat\u001b[0m\u001b[1;33m(\u001b[0m\u001b[0mdados\u001b[0m\u001b[1;33m.\u001b[0m\u001b[0mvalues\u001b[0m\u001b[1;33m(\u001b[0m\u001b[1;33m)\u001b[0m\u001b[1;33m,\u001b[0m \u001b[0mkeys\u001b[0m\u001b[1;33m=\u001b[0m\u001b[0mdados\u001b[0m\u001b[1;33m.\u001b[0m\u001b[0mkeys\u001b[0m\u001b[1;33m(\u001b[0m\u001b[1;33m)\u001b[0m\u001b[1;33m,\u001b[0m \u001b[0mnames\u001b[0m\u001b[1;33m=\u001b[0m\u001b[1;33m[\u001b[0m\u001b[1;34m\"Ticker\"\u001b[0m\u001b[1;33m,\u001b[0m \u001b[1;34m\"Data\"\u001b[0m\u001b[1;33m]\u001b[0m\u001b[1;33m)\u001b[0m\u001b[1;33m\u001b[0m\u001b[1;33m\u001b[0m\u001b[0m\n\u001b[0;32m     23\u001b[0m \u001b[1;33m\u001b[0m\u001b[0m\n\u001b[0;32m     24\u001b[0m \u001b[1;31m# Exibir os dados\u001b[0m\u001b[1;33m\u001b[0m\u001b[1;33m\u001b[0m\u001b[0m\n\u001b[1;32m---> 25\u001b[1;33m \u001b[0mdf_completo\u001b[0m\u001b[1;33m.\u001b[0m\u001b[0mreset_index\u001b[0m\u001b[1;33m(\u001b[0m\u001b[0minplace\u001b[0m\u001b[1;33m=\u001b[0m\u001b[1;32mTrue\u001b[0m\u001b[1;33m)\u001b[0m\u001b[1;33m\u001b[0m\u001b[1;33m\u001b[0m\u001b[0m\n\u001b[0m\u001b[0;32m     26\u001b[0m \u001b[0mdisplay\u001b[0m\u001b[1;33m(\u001b[0m\u001b[0mdf_completo\u001b[0m\u001b[1;33m.\u001b[0m\u001b[0mhead\u001b[0m\u001b[1;33m(\u001b[0m\u001b[1;33m)\u001b[0m\u001b[1;33m)\u001b[0m\u001b[1;33m\u001b[0m\u001b[1;33m\u001b[0m\u001b[0m\n",
      "\u001b[1;32m~\\AppData\\Roaming\\Python\\Python311\\site-packages\\pandas\\core\\frame.py\u001b[0m in \u001b[0;36m?\u001b[1;34m(self, level, drop, inplace, col_level, col_fill, allow_duplicates, names)\u001b[0m\n\u001b[0;32m   6468\u001b[0m                     level_values = algorithms.take(\n\u001b[0;32m   6469\u001b[0m                         \u001b[0mlevel_values\u001b[0m\u001b[1;33m,\u001b[0m \u001b[0mlab\u001b[0m\u001b[1;33m,\u001b[0m \u001b[0mallow_fill\u001b[0m\u001b[1;33m=\u001b[0m\u001b[1;32mTrue\u001b[0m\u001b[1;33m,\u001b[0m \u001b[0mfill_value\u001b[0m\u001b[1;33m=\u001b[0m\u001b[0mlev\u001b[0m\u001b[1;33m.\u001b[0m\u001b[0m_na_value\u001b[0m\u001b[1;33m\u001b[0m\u001b[1;33m\u001b[0m\u001b[0m\n\u001b[0;32m   6470\u001b[0m                     )\n\u001b[0;32m   6471\u001b[0m \u001b[1;33m\u001b[0m\u001b[0m\n\u001b[1;32m-> 6472\u001b[1;33m                 new_obj.insert(\n\u001b[0m\u001b[0;32m   6473\u001b[0m                     \u001b[1;36m0\u001b[0m\u001b[1;33m,\u001b[0m\u001b[1;33m\u001b[0m\u001b[1;33m\u001b[0m\u001b[0m\n\u001b[0;32m   6474\u001b[0m                     \u001b[0mname\u001b[0m\u001b[1;33m,\u001b[0m\u001b[1;33m\u001b[0m\u001b[1;33m\u001b[0m\u001b[0m\n\u001b[0;32m   6475\u001b[0m                     \u001b[0mlevel_values\u001b[0m\u001b[1;33m,\u001b[0m\u001b[1;33m\u001b[0m\u001b[1;33m\u001b[0m\u001b[0m\n",
      "\u001b[1;32m~\\AppData\\Roaming\\Python\\Python311\\site-packages\\pandas\\core\\frame.py\u001b[0m in \u001b[0;36m?\u001b[1;34m(self, loc, column, value, allow_duplicates)\u001b[0m\n\u001b[0;32m   5154\u001b[0m                 \u001b[1;34m\"'self.flags.allows_duplicate_labels' is False.\"\u001b[0m\u001b[1;33m\u001b[0m\u001b[1;33m\u001b[0m\u001b[0m\n\u001b[0;32m   5155\u001b[0m             )\n\u001b[0;32m   5156\u001b[0m         \u001b[1;32mif\u001b[0m \u001b[1;32mnot\u001b[0m \u001b[0mallow_duplicates\u001b[0m \u001b[1;32mand\u001b[0m \u001b[0mcolumn\u001b[0m \u001b[1;32min\u001b[0m \u001b[0mself\u001b[0m\u001b[1;33m.\u001b[0m\u001b[0mcolumns\u001b[0m\u001b[1;33m:\u001b[0m\u001b[1;33m\u001b[0m\u001b[1;33m\u001b[0m\u001b[0m\n\u001b[0;32m   5157\u001b[0m             \u001b[1;31m# Should this be a different kind of error??\u001b[0m\u001b[1;33m\u001b[0m\u001b[1;33m\u001b[0m\u001b[0m\n\u001b[1;32m-> 5158\u001b[1;33m             \u001b[1;32mraise\u001b[0m \u001b[0mValueError\u001b[0m\u001b[1;33m(\u001b[0m\u001b[1;34mf\"cannot insert {column}, already exists\"\u001b[0m\u001b[1;33m)\u001b[0m\u001b[1;33m\u001b[0m\u001b[1;33m\u001b[0m\u001b[0m\n\u001b[0m\u001b[0;32m   5159\u001b[0m         \u001b[1;32mif\u001b[0m \u001b[1;32mnot\u001b[0m \u001b[0mis_integer\u001b[0m\u001b[1;33m(\u001b[0m\u001b[0mloc\u001b[0m\u001b[1;33m)\u001b[0m\u001b[1;33m:\u001b[0m\u001b[1;33m\u001b[0m\u001b[1;33m\u001b[0m\u001b[0m\n\u001b[0;32m   5160\u001b[0m             \u001b[1;32mraise\u001b[0m \u001b[0mTypeError\u001b[0m\u001b[1;33m(\u001b[0m\u001b[1;34m\"loc must be int\"\u001b[0m\u001b[1;33m)\u001b[0m\u001b[1;33m\u001b[0m\u001b[1;33m\u001b[0m\u001b[0m\n\u001b[0;32m   5161\u001b[0m         \u001b[1;31m# convert non stdlib ints to satisfy typing checks\u001b[0m\u001b[1;33m\u001b[0m\u001b[1;33m\u001b[0m\u001b[0m\n",
      "\u001b[1;31mValueError\u001b[0m: cannot insert ('Ticker', ''), already exists"
     ]
    }
   ],
   "source": [
    "import yfinance as yf\n",
    "import pandas as pd\n",
    "\n",
    "# Período de interesse\n",
    "inicio = \"2020-05-05\"\n",
    "fim = \"2025-05-05\"\n",
    "\n",
    "# Tickers: IMAB11 como proxy de LTN, BOVA11 como referência de Ibovespa\n",
    "tickers = {\n",
    "    \"IMAB11.SA\": \"LTN (Tesouro Prefixado)\",\n",
    "    \"BOVA11.SA\": \"Benchmark Ibovespa\"\n",
    "}\n",
    "\n",
    "dados = {}\n",
    "\n",
    "for ticker in tickers:\n",
    "    df = yf.download(ticker, start=inicio, end=fim, interval='1d')\n",
    "    df['Ticker'] = ticker\n",
    "    dados[ticker] = df\n",
    "\n",
    "# Concatenar todos os dados\n",
    "df_completo = pd.concat(dados.values(), keys=dados.keys(), names=[\"Ticker\", \"Data\"])\n",
    "\n",
    "# Exibir os dados\n",
    "df_completo.reset_index(inplace=True)\n",
    "display(df_completo.head())\n"
   ]
  }
 ],
 "metadata": {
  "kernelspec": {
   "display_name": "Python 3",
   "language": "python",
   "name": "python3"
  },
  "language_info": {
   "codemirror_mode": {
    "name": "ipython",
    "version": 3
   },
   "file_extension": ".py",
   "mimetype": "text/x-python",
   "name": "python",
   "nbconvert_exporter": "python",
   "pygments_lexer": "ipython3",
   "version": "3.11.8"
  }
 },
 "nbformat": 4,
 "nbformat_minor": 5
}
